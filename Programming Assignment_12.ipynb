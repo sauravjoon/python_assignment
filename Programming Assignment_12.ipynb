{
 "cells": [
  {
   "cell_type": "markdown",
   "metadata": {},
   "source": [
    "# Python Basic Programming Assignment 12\n",
    "-------------"
   ]
  },
  {
   "cell_type": "markdown",
   "metadata": {},
   "source": [
    "### 1. Write a Python program to Extract Unique values dictionary values?"
   ]
  },
  {
   "cell_type": "code",
   "execution_count": 2,
   "metadata": {},
   "outputs": [
    {
     "name": "stdout",
     "output_type": "stream",
     "text": [
      "Enter a dictionary: {'birds':['a','b']}\n",
      "Unique values:\n",
      "a\n",
      "b\n"
     ]
    }
   ],
   "source": [
    "def extract_unique_values(dictionary):\n",
    "    unique_values = set()\n",
    "\n",
    "    # Iterate through each value in the dictionary\n",
    "    for values in dictionary.values():\n",
    "        if isinstance(values, list):\n",
    "            unique_values.update(set(values))\n",
    "        else:\n",
    "            unique_values.add(values)\n",
    "\n",
    "    return unique_values\n",
    "\n",
    "# Test the function\n",
    "input_dict = eval(input(\"Enter a dictionary: \"))  # Enter the dictionary as {1: [2, 3, 4], 2: [3, 4, 5], 3: 4}\n",
    "unique_values = extract_unique_values(input_dict)\n",
    "\n",
    "print(\"Unique values:\")\n",
    "for value in unique_values:\n",
    "    print(value)\n"
   ]
  },
  {
   "cell_type": "markdown",
   "metadata": {},
   "source": [
    "### 2. Write a Python program to find the sum of all items in a dictionary?"
   ]
  },
  {
   "cell_type": "code",
   "execution_count": null,
   "metadata": {},
   "outputs": [],
   "source": [
    "def sum_of_items(dictionary):\n",
    "    total_sum = sum(dictionary.values())\n",
    "    return total_sum\n",
    "\n",
    "# Test the function\n",
    "input_dict = eval(input(\"Enter a dictionary: \"))  # Enter the dictionary as {'a': 10, 'b': 20, 'c': 30}\n",
    "result = sum_of_items(input_dict)\n",
    "\n",
    "print(\"Sum of all items in the dictionary:\", result)\n"
   ]
  },
  {
   "cell_type": "markdown",
   "metadata": {},
   "source": [
    "### 3. Write a Python program to Merging two Dictionaries?"
   ]
  },
  {
   "cell_type": "code",
   "execution_count": null,
   "metadata": {},
   "outputs": [],
   "source": [
    "def merge_dictionaries(dict1, dict2):\n",
    "    merged_dict = {**dict1, **dict2}\n",
    "    return merged_dict\n",
    "\n",
    "# Test the function\n",
    "input_dict1 = eval(input(\"Enter the first dictionary: \"))  # Enter the dictionary as {'a': 1, 'b': 2}\n",
    "input_dict2 = eval(input(\"Enter the second dictionary: \"))  # Enter the dictionary as {'c': 3, 'd': 4}\n",
    "result = merge_dictionaries(input_dict1, input_dict2)\n",
    "\n",
    "print(\"Merged dictionary:\")\n",
    "print(result)\n"
   ]
  },
  {
   "cell_type": "markdown",
   "metadata": {},
   "source": [
    "### 4. Write a Python program to convert key-values list to flat dictionary?"
   ]
  },
  {
   "cell_type": "code",
   "execution_count": null,
   "metadata": {},
   "outputs": [],
   "source": [
    "def convert_to_flat_dictionary(key_values_list):\n",
    "    flat_dict = {}\n",
    "\n",
    "    # Iterate through each key-value pair in the list\n",
    "    for key, value in key_values_list:\n",
    "        flat_dict[key] = value\n",
    "\n",
    "    return flat_dict\n",
    "\n",
    "# Test the function\n",
    "input_list = eval(input(\"Enter a key-values list: \"))  # Enter the list as [('a', 1), ('b', 2), ('c', 3)]\n",
    "result_dict = convert_to_flat_dictionary(input_list)\n",
    "\n",
    "print(\"Flat dictionary:\")\n",
    "print(result_dict)\n"
   ]
  },
  {
   "cell_type": "markdown",
   "metadata": {},
   "source": [
    "### 5. Write a Python program to insertion at the beginning in OrderedDict?"
   ]
  },
  {
   "cell_type": "code",
   "execution_count": null,
   "metadata": {},
   "outputs": [],
   "source": [
    "from collections import OrderedDict\n",
    "\n",
    "def insert_at_beginning(ordered_dict, key, value):\n",
    "    ordered_dict[key] = value\n",
    "    ordered_dict.move_to_end(key, last=False)\n",
    "\n",
    "# Test the function\n",
    "input_dict = eval(input(\"Enter an OrderedDict: \"))  # Enter the OrderedDict as OrderedDict([('a', 1), ('b', 2)])\n",
    "key = input(\"Enter the key to insert: \")\n",
    "value = input(\"Enter the value to insert: \")\n",
    "\n",
    "# Convert the input_dict to an OrderedDict (optional, if not already an OrderedDict)\n",
    "input_dict = OrderedDict(input_dict)\n",
    "\n",
    "print(\"Before insertion:\")\n",
    "print(input_dict)\n",
    "\n",
    "insert_at_beginning(input_dict, key, value)\n",
    "\n",
    "print(\"After insertion:\")\n",
    "print(input_dict)\n"
   ]
  },
  {
   "cell_type": "markdown",
   "metadata": {},
   "source": [
    "### 6. Write a Python program to check order of character in string using OrderedDict()?"
   ]
  },
  {
   "cell_type": "code",
   "execution_count": null,
   "metadata": {},
   "outputs": [],
   "source": [
    "from collections import OrderedDict\n",
    "\n",
    "def check_order_of_characters(string, pattern):\n",
    "    ordered_dict = OrderedDict.fromkeys(string)\n",
    "\n",
    "    pattern_length = 0\n",
    "\n",
    "    for key in ordered_dict:\n",
    "        if pattern_length == len(pattern):\n",
    "            break\n",
    "        if key == pattern[pattern_length]:\n",
    "            pattern_length += 1\n",
    "\n",
    "    return pattern_length == len(pattern)\n",
    "\n",
    "# Test the function\n",
    "input_string = input(\"Enter a string: \")\n",
    "input_pattern = input(\"Enter the pattern to check: \")\n",
    "\n",
    "is_ordered = check_order_of_characters(input_string, input_pattern)\n",
    "\n",
    "if is_ordered:\n",
    "    print(\"The characters in the string follow the given order.\")\n",
    "else:\n",
    "    print(\"The characters in the string do not follow the given order.\")\n",
    "\n",
    "    "
   ]
  },
  {
   "cell_type": "markdown",
   "metadata": {},
   "source": [
    "### 7. Write a Python program to sort Python Dictionaries by Key or Value?"
   ]
  },
  {
   "cell_type": "code",
   "execution_count": null,
   "metadata": {},
   "outputs": [],
   "source": [
    "def sort_dictionary(dictionary, by_key=True):\n",
    "    sorted_dict = {}\n",
    "\n",
    "    if by_key:\n",
    "        sorted_keys = sorted(dictionary.keys())\n",
    "        for key in sorted_keys:\n",
    "            sorted_dict[key] = dictionary[key]\n",
    "    else:\n",
    "        sorted_items = sorted(dictionary.items(), key=lambda x: x[1])\n",
    "        for item in sorted_items:\n",
    "            sorted_dict[item[0]] = item[1]\n",
    "\n",
    "    return sorted_dict\n",
    "\n",
    "# Test the function\n",
    "input_dict = eval(input(\"Enter a dictionary: \"))  # Enter the dictionary as {'a': 4, 'c': 2, 'b': 3}\n",
    "sort_by = input(\"Sort by key? (Y/N): \")\n",
    "\n",
    "if sort_by.lower() == 'y':\n",
    "    sorted_dict = sort_dictionary(input_dict, by_key=True)\n",
    "    print(\"Dictionary sorted by key:\")\n",
    "    print(sorted_dict)\n",
    "else:\n",
    "    sorted_dict = sort_dictionary(input_dict, by_key=False)\n",
    "    print(\"Dictionary sorted by value:\")\n",
    "    print(sorted_dict)\n"
   ]
  },
  {
   "cell_type": "code",
   "execution_count": null,
   "metadata": {},
   "outputs": [],
   "source": []
  }
 ],
 "metadata": {
  "kernelspec": {
   "display_name": "Python 3",
   "language": "python",
   "name": "python3"
  },
  "language_info": {
   "codemirror_mode": {
    "name": "ipython",
    "version": 3
   },
   "file_extension": ".py",
   "mimetype": "text/x-python",
   "name": "python",
   "nbconvert_exporter": "python",
   "pygments_lexer": "ipython3",
   "version": "3.7.6"
  }
 },
 "nbformat": 4,
 "nbformat_minor": 5
}
