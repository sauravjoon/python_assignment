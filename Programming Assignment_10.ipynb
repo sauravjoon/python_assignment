{
 "cells": [
  {
   "cell_type": "markdown",
   "metadata": {},
   "source": [
    "## Python Basic Programming Assignment 10"
   ]
  },
  {
   "cell_type": "markdown",
   "metadata": {},
   "source": [
    "### 1. Write a Python program to find sum of elements in list?"
   ]
  },
  {
   "cell_type": "code",
   "execution_count": 1,
   "metadata": {},
   "outputs": [
    {
     "name": "stdout",
     "output_type": "stream",
     "text": [
      "Enter a list of numbers separated by spaces: 4 5 6\n",
      "The sum of the elements in the list is: 15\n"
     ]
    }
   ],
   "source": [
    "def sum_of_elements(lst):\n",
    "    sum = 0\n",
    "    for num in lst:\n",
    "        sum += num\n",
    "    return sum\n",
    "\n",
    "# Test the function\n",
    "input_list = [int(x) for x in input(\"Enter a list of numbers separated by spaces: \").split()]\n",
    "result = sum_of_elements(input_list)\n",
    "\n",
    "print(\"The sum of the elements in the list is:\", result)\n"
   ]
  },
  {
   "cell_type": "markdown",
   "metadata": {},
   "source": [
    "### 2. Write a Python program to  Multiply all numbers in the list?"
   ]
  },
  {
   "cell_type": "code",
   "execution_count": 2,
   "metadata": {},
   "outputs": [
    {
     "name": "stdout",
     "output_type": "stream",
     "text": [
      "Enter a list of numbers separated by spaces: 4 5 6\n",
      "The product of the numbers in the list is: 120\n"
     ]
    }
   ],
   "source": [
    "def multiply_numbers(lst):\n",
    "    result = 1\n",
    "    for num in lst:\n",
    "        result *= num\n",
    "    return result\n",
    "\n",
    "# Test the function\n",
    "input_list = [int(x) for x in input(\"Enter a list of numbers separated by spaces: \").split()]\n",
    "result = multiply_numbers(input_list)\n",
    "\n",
    "print(\"The product of the numbers in the list is:\", result)\n"
   ]
  },
  {
   "cell_type": "markdown",
   "metadata": {},
   "source": [
    "### 3. Write a Python program to find smallest number in a list?"
   ]
  },
  {
   "cell_type": "code",
   "execution_count": 3,
   "metadata": {},
   "outputs": [
    {
     "name": "stdout",
     "output_type": "stream",
     "text": [
      "Enter a list of numbers separated by spaces: 4 5 6\n",
      "The smallest number in the list is: 4\n"
     ]
    }
   ],
   "source": [
    "def find_smallest_number(lst):\n",
    "    smallest = min(lst)\n",
    "    return smallest\n",
    "\n",
    "# Test the function\n",
    "input_list = [int(x) for x in input(\"Enter a list of numbers separated by spaces: \").split()]\n",
    "result = find_smallest_number(input_list)\n",
    "\n",
    "print(\"The smallest number in the list is:\", result)\n"
   ]
  },
  {
   "cell_type": "markdown",
   "metadata": {},
   "source": [
    "### 4. Write a Python program to find largest number in a list?"
   ]
  },
  {
   "cell_type": "code",
   "execution_count": 4,
   "metadata": {},
   "outputs": [
    {
     "name": "stdout",
     "output_type": "stream",
     "text": [
      "Enter a list of numbers separated by spaces: 4 5 6\n",
      "The largest number in the list is: 6\n"
     ]
    }
   ],
   "source": [
    "def find_largest_number(lst):\n",
    "    largest = max(lst)\n",
    "    return largest\n",
    "\n",
    "# Test the function\n",
    "input_list = [int(x) for x in input(\"Enter a list of numbers separated by spaces: \").split()]\n",
    "result = find_largest_number(input_list)\n",
    "\n",
    "print(\"The largest number in the list is:\", result)\n"
   ]
  },
  {
   "cell_type": "markdown",
   "metadata": {},
   "source": [
    "### 5. Write a Python program to find second largest number in a list?"
   ]
  },
  {
   "cell_type": "code",
   "execution_count": 5,
   "metadata": {},
   "outputs": [
    {
     "name": "stdout",
     "output_type": "stream",
     "text": [
      "Enter a list of numbers separated by spaces: 4 5 6\n",
      "The second largest number in the list is: 5\n"
     ]
    }
   ],
   "source": [
    "def find_second_largest(lst):\n",
    "    # Find the largest number\n",
    "    largest = max(lst)\n",
    "    \n",
    "    # Remove the largest number from the list\n",
    "    lst.remove(largest)\n",
    "    \n",
    "    # Find the second largest number\n",
    "    second_largest = max(lst)\n",
    "    \n",
    "    return second_largest\n",
    "\n",
    "# Test the function\n",
    "input_list = [int(x) for x in input(\"Enter a list of numbers separated by spaces: \").split()]\n",
    "result = find_second_largest(input_list)\n",
    "\n",
    "print(\"The second largest number in the list is:\", result)\n"
   ]
  },
  {
   "cell_type": "markdown",
   "metadata": {},
   "source": [
    "### 6. Write a Python program to find N largest elements from a list?"
   ]
  },
  {
   "cell_type": "code",
   "execution_count": 6,
   "metadata": {},
   "outputs": [
    {
     "name": "stdout",
     "output_type": "stream",
     "text": [
      "Enter a list of numbers separated by spaces: 4 5 6\n",
      "Enter the value of N: 5\n",
      "The 5 largest elements in the list are: [4, 5, 6]\n"
     ]
    }
   ],
   "source": [
    "def find_n_largest(lst, n):\n",
    "    sorted_list = sorted(lst)\n",
    "    n_largest_elements = sorted_list[-n:]\n",
    "    return n_largest_elements\n",
    "\n",
    "# Test the function\n",
    "input_list = [int(x) for x in input(\"Enter a list of numbers separated by spaces: \").split()]\n",
    "n = int(input(\"Enter the value of N: \"))\n",
    "result = find_n_largest(input_list, n)\n",
    "\n",
    "print(f\"The {n} largest elements in the list are:\", result)\n"
   ]
  },
  {
   "cell_type": "markdown",
   "metadata": {},
   "source": [
    "### 7. Write a Python program to print even numbers in a list?"
   ]
  },
  {
   "cell_type": "code",
   "execution_count": 7,
   "metadata": {},
   "outputs": [
    {
     "name": "stdout",
     "output_type": "stream",
     "text": [
      "Enter a list of numbers separated by spaces: 4 5 6\n",
      "Even numbers in the list:\n",
      "4\n",
      "6\n"
     ]
    }
   ],
   "source": [
    "def print_even_numbers(lst):\n",
    "    for num in lst:\n",
    "        if num % 2 == 0:\n",
    "            print(num)\n",
    "\n",
    "# Test the function\n",
    "input_list = [int(x) for x in input(\"Enter a list of numbers separated by spaces: \").split()]\n",
    "print(\"Even numbers in the list:\")\n",
    "print_even_numbers(input_list)\n",
    "\n"
   ]
  },
  {
   "cell_type": "markdown",
   "metadata": {},
   "source": [
    "### 8. Write a Python program to print odd numbers in a List?"
   ]
  },
  {
   "cell_type": "code",
   "execution_count": 8,
   "metadata": {},
   "outputs": [
    {
     "name": "stdout",
     "output_type": "stream",
     "text": [
      "Enter a list of numbers separated by spaces: 4 5 6\n",
      "Odd numbers in the list:\n",
      "5\n"
     ]
    }
   ],
   "source": [
    "def print_odd_numbers(lst):\n",
    "    for num in lst:\n",
    "        if num % 2 != 0:\n",
    "            print(num)\n",
    "\n",
    "# Test the function\n",
    "input_list = [int(x) for x in input(\"Enter a list of numbers separated by spaces: \").split()]\n",
    "print(\"Odd numbers in the list:\")\n",
    "print_odd_numbers(input_list)\n"
   ]
  },
  {
   "cell_type": "markdown",
   "metadata": {},
   "source": [
    "### 9. Write a Python program to Remove empty List from List?"
   ]
  },
  {
   "cell_type": "code",
   "execution_count": 9,
   "metadata": {},
   "outputs": [
    {
     "name": "stdout",
     "output_type": "stream",
     "text": [
      "Enter a list of lists: 4 5 6\n"
     ]
    },
    {
     "ename": "SyntaxError",
     "evalue": "invalid syntax (<string>, line 1)",
     "output_type": "error",
     "traceback": [
      "Traceback \u001b[1;36m(most recent call last)\u001b[0m:\n",
      "  File \u001b[0;32m\"C:\\Users\\SHUBHAM AGNIHOTRI\\anaconda3\\lib\\site-packages\\IPython\\core\\interactiveshell.py\"\u001b[0m, line \u001b[0;32m3331\u001b[0m, in \u001b[0;35mrun_code\u001b[0m\n    exec(code_obj, self.user_global_ns, self.user_ns)\n",
      "\u001b[1;36m  File \u001b[1;32m\"<ipython-input-9-85c5da7b4fa3>\"\u001b[1;36m, line \u001b[1;32m6\u001b[1;36m, in \u001b[1;35m<module>\u001b[1;36m\u001b[0m\n\u001b[1;33m    input_list = eval(input(\"Enter a list of lists: \"))  # Enter the list as [[1, 2], [], [3, 4], [], []]\u001b[0m\n",
      "\u001b[1;36m  File \u001b[1;32m\"<string>\"\u001b[1;36m, line \u001b[1;32m1\u001b[0m\n\u001b[1;33m    4 5 6\u001b[0m\n\u001b[1;37m      ^\u001b[0m\n\u001b[1;31mSyntaxError\u001b[0m\u001b[1;31m:\u001b[0m invalid syntax\n"
     ]
    }
   ],
   "source": [
    "def remove_empty_lists(lst):\n",
    "    result = [sublist for sublist in lst if sublist]\n",
    "    return result\n",
    "\n",
    "# Test the function\n",
    "input_list = eval(input(\"Enter a list of lists: \"))  # Enter the list as [[1, 2], [], [3, 4], [], []]\n",
    "print(\"Original list:\", input_list)\n",
    "result = remove_empty_lists(input_list)\n",
    "print(\"List after removing empty lists:\", result)\n"
   ]
  },
  {
   "cell_type": "markdown",
   "metadata": {},
   "source": [
    "### 10. Write a Python program to Cloning or Copying a list?"
   ]
  },
  {
   "cell_type": "code",
   "execution_count": 10,
   "metadata": {},
   "outputs": [
    {
     "name": "stdout",
     "output_type": "stream",
     "text": [
      "Enter a list of numbers separated by spaces: 4 5 6\n",
      "Original list: [4, 5, 6]\n",
      "Cloned list: [4, 5, 6]\n"
     ]
    }
   ],
   "source": [
    "def clone_list(lst):\n",
    "    cloned_list = lst.copy()\n",
    "    return cloned_list\n",
    "\n",
    "# Test the function\n",
    "input_list = [int(x) for x in input(\"Enter a list of numbers separated by spaces: \").split()]\n",
    "cloned_list = clone_list(input_list)\n",
    "\n",
    "print(\"Original list:\", input_list)\n",
    "print(\"Cloned list:\", cloned_list)\n"
   ]
  },
  {
   "cell_type": "markdown",
   "metadata": {},
   "source": [
    "### 11. Write a Python program to Count occurrences of an element in a list?"
   ]
  },
  {
   "cell_type": "code",
   "execution_count": null,
   "metadata": {},
   "outputs": [],
   "source": []
  }
 ],
 "metadata": {
  "kernelspec": {
   "display_name": "Python 3",
   "language": "python",
   "name": "python3"
  },
  "language_info": {
   "codemirror_mode": {
    "name": "ipython",
    "version": 3
   },
   "file_extension": ".py",
   "mimetype": "text/x-python",
   "name": "python",
   "nbconvert_exporter": "python",
   "pygments_lexer": "ipython3",
   "version": "3.7.6"
  }
 },
 "nbformat": 4,
 "nbformat_minor": 5
}
