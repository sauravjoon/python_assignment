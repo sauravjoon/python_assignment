{
 "cells": [
  {
   "cell_type": "markdown",
   "metadata": {},
   "source": [
    "# Python Basic Programming Assignment 8"
   ]
  },
  {
   "cell_type": "markdown",
   "metadata": {},
   "source": [
    "### 1. Write a Python Program to Add Two Matrices?"
   ]
  },
  {
   "cell_type": "code",
   "execution_count": null,
   "metadata": {},
   "outputs": [],
   "source": [
    "def add_matrices(matrix1, matrix2):\n",
    "    rows = len(matrix1)\n",
    "    columns = len(matrix1[0])\n",
    "\n",
    "    # Create a new matrix to store the result\n",
    "    result = [[0 for _ in range(columns)] for _ in range(rows)]\n",
    "\n",
    "    # Perform matrix addition\n",
    "    for i in range(rows):\n",
    "        for j in range(columns):\n",
    "            result[i][j] = matrix1[i][j] + matrix2[i][j]\n",
    "\n",
    "    return result\n",
    "\n",
    "# Test the function\n",
    "print(\"Enter the elements of the first matrix:\")\n",
    "matrix1 = [[int(x) for x in input().split()] for _ in range(rows)]\n",
    "\n",
    "print(\"Enter the elements of the second matrix:\")\n",
    "matrix2 = [[int(x) for x in input().split()] for _ in range(rows)]\n",
    "\n",
    "result = add_matrices(matrix1, matrix2)\n",
    "\n",
    "print(\"The sum of the two matrices is:\")\n",
    "for row in result:\n",
    "    print(row)\n"
   ]
  },
  {
   "cell_type": "markdown",
   "metadata": {},
   "source": [
    "### 2. Write a Python Program to Multiply Two Matrices?"
   ]
  },
  {
   "cell_type": "code",
   "execution_count": null,
   "metadata": {},
   "outputs": [],
   "source": [
    "def multiply_matrices(matrix1, matrix2):\n",
    "    rows1 = len(matrix1)\n",
    "    cols1 = len(matrix1[0])\n",
    "    rows2 = len(matrix2)\n",
    "    cols2 = len(matrix2[0])\n",
    "\n",
    "    # Check if matrices can be multiplied\n",
    "    if cols1 != rows2:\n",
    "        raise ValueError(\"Matrices cannot be multiplied.\")\n",
    "\n",
    "    # Create a new matrix to store the result\n",
    "    result = [[0 for _ in range(cols2)] for _ in range(rows1)]\n",
    "\n",
    "    # Perform matrix multiplication\n",
    "    for i in range(rows1):\n",
    "        for j in range(cols2):\n",
    "            for k in range(rows2):\n",
    "                result[i][j] += matrix1[i][k] * matrix2[k][j]\n",
    "\n",
    "    return result\n",
    "\n",
    "# Test the function\n",
    "print(\"Enter the elements of the first matrix:\")\n",
    "rows1 = int(input(\"Number of rows: \"))\n",
    "cols1 = int(input(\"Number of columns: \"))\n",
    "matrix1 = [[int(x) for x in input().split()] for _ in range(rows1)]\n",
    "\n",
    "print(\"Enter the elements of the second matrix:\")\n",
    "rows2 = int(input(\"Number of rows: \"))\n",
    "cols2 = int(input(\"Number of columns: \"))\n",
    "matrix2 = [[int(x) for x in input().split()] for _ in range(rows2)]\n",
    "\n",
    "result = multiply_matrices(matrix1, matrix2)\n",
    "\n",
    "print(\"The product of the two matrices is:\")\n",
    "for row in result:\n",
    "    print(row)\n"
   ]
  },
  {
   "cell_type": "markdown",
   "metadata": {},
   "source": [
    "### 3. Write a Python Program to Transpose a Matrix?"
   ]
  },
  {
   "cell_type": "code",
   "execution_count": null,
   "metadata": {},
   "outputs": [],
   "source": [
    "def transpose_matrix(matrix):\n",
    "    rows = len(matrix)\n",
    "    cols = len(matrix[0])\n",
    "\n",
    "    # Create a new matrix to store the transposed matrix\n",
    "    transposed = [[0 for _ in range(rows)] for _ in range(cols)]\n",
    "\n",
    "    # Perform matrix transposition\n",
    "    for i in range(rows):\n",
    "        for j in range(cols):\n",
    "            transposed[j][i] = matrix[i][j]\n",
    "\n",
    "    return transposed\n",
    "\n",
    "# Test the function\n",
    "print(\"Enter the elements of the matrix:\")\n",
    "rows = int(input(\"Number of rows: \"))\n",
    "cols = int(input(\"Number of columns: \"))\n",
    "matrix = [[int(x) for x in input().split()] for _ in range(rows)]\n",
    "\n",
    "result = transpose_matrix(matrix)\n",
    "\n",
    "print(\"The transposed matrix is:\")\n",
    "for row in result:\n",
    "    print(row)\n"
   ]
  },
  {
   "cell_type": "markdown",
   "metadata": {},
   "source": [
    "\n",
    "### 4. Write a Python Program to Sort Words in Alphabetic Order?\n"
   ]
  },
  {
   "cell_type": "code",
   "execution_count": 2,
   "metadata": {},
   "outputs": [
    {
     "name": "stdout",
     "output_type": "stream",
     "text": [
      "Enter a list of words separated by spaces: f g h\n",
      "The words in alphabetical order are:\n",
      "f\n",
      "g\n",
      "h\n"
     ]
    }
   ],
   "source": [
    "def sort_words(words):\n",
    "    # Split the input string into individual words\n",
    "    word_list = words.split()\n",
    "\n",
    "    # Sort the words in alphabetical order\n",
    "    sorted_words = sorted(word_list)\n",
    "\n",
    "    return sorted_words\n",
    "\n",
    "# Test the function\n",
    "input_words = input(\"Enter a list of words separated by spaces: \")\n",
    "result = sort_words(input_words)\n",
    "\n",
    "print(\"The words in alphabetical order are:\")\n",
    "for word in result:\n",
    "    print(word)\n"
   ]
  },
  {
   "cell_type": "markdown",
   "metadata": {},
   "source": [
    "### 5. Write a Python Program to Remove Punctuation From a String?"
   ]
  },
  {
   "cell_type": "code",
   "execution_count": null,
   "metadata": {},
   "outputs": [],
   "source": []
  }
 ],
 "metadata": {
  "kernelspec": {
   "display_name": "Python 3",
   "language": "python",
   "name": "python3"
  },
  "language_info": {
   "codemirror_mode": {
    "name": "ipython",
    "version": 3
   },
   "file_extension": ".py",
   "mimetype": "text/x-python",
   "name": "python",
   "nbconvert_exporter": "python",
   "pygments_lexer": "ipython3",
   "version": "3.7.6"
  }
 },
 "nbformat": 4,
 "nbformat_minor": 5
}
